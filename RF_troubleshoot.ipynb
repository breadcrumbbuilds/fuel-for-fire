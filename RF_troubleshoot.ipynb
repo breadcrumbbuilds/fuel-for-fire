{
 "cells": [
  {
   "cell_type": "code",
   "execution_count": 1,
   "metadata": {},
   "outputs": [],
   "source": [
    "from sklearn.ensemble import RandomForestClassifier\n",
    "\n",
    "from sklearn.model_selection import train_test_split\n",
    "from sklearn.preprocessing import OneHotEncoder\n",
    "from sklearn.metrics import confusion_matrix\n",
    "from matplotlib.patches import Rectangle\n",
    "import matplotlib.patches as mpatches\n",
    "import matplotlib.pyplot as plt\n",
    "import sys\n",
    "import numpy as np\n",
    "import json\n",
    "import time\n",
    "import os\n",
    "import math"
   ]
  },
  {
   "cell_type": "code",
   "execution_count": 2,
   "metadata": {},
   "outputs": [],
   "source": [
    "root_path = \"data/full/prepared/train\"\n",
    "reference_data_root = f\"{root_path}data_bcgw/\"\n",
    "raw_data_root = f\"{root_path}data_img/\""
   ]
  },
  {
   "cell_type": "code",
   "execution_count": 3,
   "metadata": {},
   "outputs": [],
   "source": [
    "def get_run_logdir(root_logdir):\n",
    "    import time\n",
    "    run_id = time.strftime(\"run__%Y_%m_%d-%H_%M_%S\")\n",
    "    return os.path.join(root_logdir, run_id)\n"
   ]
  },
  {
   "cell_type": "code",
   "execution_count": 4,
   "metadata": {},
   "outputs": [],
   "source": [
    "    n_skip = 5\n",
    "    n_est = 100\n",
    "    m_depth = 8\n",
    "    target = {\n",
    "        \"conifer\" : \"CONIFER.bin\",\n",
    "        \"ccut\" : \"CCUTBL.bin\",\n",
    "        \"water\": \"WATER.bin\",\n",
    "        \"broadleaf\" : \"BROADLEAF.bin\",\n",
    "        \"shrub\" : \"SHRUB.bin\",\n",
    "        \"mixed\" : \"MIXED.bin\",\n",
    "        \"herb\" : \"HERB.bin\",\n",
    "        \"exposed\" : \"EXPOSED.bin\",\n",
    "        \"river\" : \"Rivers.bin\",\n",
    "        # \"road\" : \"ROADS.bin\",\n",
    "        # \"vri\" : \"vri_s3_objid2.tif_proj.bin\",\n",
    "    }\n",
    "    classes = [\"unlabelled\"]\n",
    "    keys = list(target.keys())\n",
    "    for key in keys:\n",
    "        classes.append(key)\n",
    "    outdir = os.path.join(os.curdir,'outs')\n",
    "    if not os.path.exists(outdir):\n",
    "        os.mkdir(outdir)\n",
    "    outdir = os.path.join(outdir, 'RandomForest')\n",
    "    if not os.path.exists(outdir):\n",
    "        os.mkdir(outdir)\n",
    "    outdir = os.path.join(outdir, 'KFold')\n",
    "    if not os.path.exists(outdir):\n",
    "        os.mkdir(outdir)\n",
    "    outdir = get_run_logdir(outdir)\n",
    "    os.mkdir(outdir)\n",
    "\n",
    "    datadir = f'{root_path}'\n"
   ]
  },
  {
   "cell_type": "code",
   "execution_count": 5,
   "metadata": {},
   "outputs": [],
   "source": [
    "def n_th(img, n): # take every n-th data point (data in scikit-learn expected format)\n",
    "    print(len(img.shape))\n",
    "    npx = img.shape[0]\n",
    "    npx2 = int(math.floor(npx / n))\n",
    "    if len(img.shape) == 1:\n",
    "        nband = 1\n",
    "        result = np.zeros(npx2)\n",
    "        for i in range(0, npx, n):\n",
    "            ip = int(math.floor(i/n))\n",
    "            if npx2 == ip:\n",
    "                break # index error\n",
    "            result[ip] = img[i]\n",
    "    else:\n",
    "        nband = img.shape[1]\n",
    "        print(npx, nband)\n",
    "        result = np.zeros((npx2, nband))\n",
    "        for i in range(0, npx, n):\n",
    "            ip = int(math.floor(i/n))\n",
    "            for k in range(0, nband):\n",
    "                if npx2 == ip:\n",
    "                    break\n",
    "                result[ip, k] = img[i, k]\n",
    "    return result  # kindof a flaky sampling procedure but it's fairly effective!\n"
   ]
  },
  {
   "cell_type": "code",
   "execution_count": null,
   "metadata": {},
   "outputs": [],
   "source": []
  },
  {
   "cell_type": "code",
   "execution_count": 6,
   "metadata": {},
   "outputs": [],
   "source": [
    "X = np.load(f'{datadir}/full-img.npy')\n",
    "y = np.load(f'{datadir}/full-label.npy')\n"
   ]
  },
  {
   "cell_type": "code",
   "execution_count": 7,
   "metadata": {},
   "outputs": [
    {
     "name": "stdout",
     "output_type": "stream",
     "text": [
      "2\n",
      "16448670 11\n",
      "1\n"
     ]
    }
   ],
   "source": [
    "X_train = n_th(X, n_skip)\n",
    "y_train = n_th(y, n_skip)"
   ]
  },
  {
   "cell_type": "code",
   "execution_count": 8,
   "metadata": {},
   "outputs": [
    {
     "name": "stdout",
     "output_type": "stream",
     "text": [
      "X_train shape: (3289734, 11)\n",
      "y_train shape: (3289734,)\n"
     ]
    }
   ],
   "source": [
    "print(f'X_train shape: {X_train.shape}')\n",
    "print(f'y_train shape: {y_train.shape}')"
   ]
  },
  {
   "cell_type": "code",
   "execution_count": null,
   "metadata": {},
   "outputs": [
    {
     "name": "stderr",
     "output_type": "stream",
     "text": [
      "[Parallel(n_jobs=-1)]: Using backend ThreadingBackend with 4 concurrent workers.\n"
     ]
    }
   ],
   "source": [
    "rf = RandomForestClassifier(n_estimators=n_est, oob_score=True, verbose=1, n_jobs=-1, max_depth=m_depth) # could crash on warn and increase # of estimators    \n",
    "rf.fit(X_train, y_train)"
   ]
  },
  {
   "cell_type": "code",
   "execution_count": null,
   "metadata": {},
   "outputs": [],
   "source": [
    "predict = rf.predict(X_train) # predict on what we just trained on"
   ]
  },
  {
   "cell_type": "code",
   "execution_count": null,
   "metadata": {},
   "outputs": [],
   "source": [
    "correct_classifications = np.logical_and(predict, y_train)\n",
    "np.sum(correct_classifications)/len(y_train)"
   ]
  },
  {
   "cell_type": "code",
   "execution_count": null,
   "metadata": {},
   "outputs": [],
   "source": [
    "predict2 = rf.predict(X)"
   ]
  },
  {
   "cell_type": "code",
   "execution_count": null,
   "metadata": {},
   "outputs": [],
   "source": [
    "correct_classifications2 = np.logical_and(predict2, y)\n",
    "np.sum(correct_classifications)/len(y)"
   ]
  },
  {
   "cell_type": "code",
   "execution_count": null,
   "metadata": {},
   "outputs": [],
   "source": [
    "np.unique(predict2, return_counts=True)"
   ]
  },
  {
   "cell_type": "code",
   "execution_count": null,
   "metadata": {},
   "outputs": [],
   "source": []
  },
  {
   "cell_type": "code",
   "execution_count": null,
   "metadata": {},
   "outputs": [],
   "source": []
  },
  {
   "cell_type": "code",
   "execution_count": null,
   "metadata": {},
   "outputs": [],
   "source": []
  }
 ],
 "metadata": {
  "kernelspec": {
   "display_name": "Python [conda env:tf] *",
   "language": "python",
   "name": "conda-env-tf-py"
  },
  "language_info": {
   "codemirror_mode": {
    "name": "ipython",
    "version": 3
   },
   "file_extension": ".py",
   "mimetype": "text/x-python",
   "name": "python",
   "nbconvert_exporter": "python",
   "pygments_lexer": "ipython3",
   "version": "3.6.10"
  }
 },
 "nbformat": 4,
 "nbformat_minor": 4
}
